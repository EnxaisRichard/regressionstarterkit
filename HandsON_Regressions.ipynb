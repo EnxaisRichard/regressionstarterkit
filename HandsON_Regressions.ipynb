{
 "cells": [
  {
   "cell_type": "markdown",
   "metadata": {},
   "source": [
    "# Enaxis Data Science Regression Algorithms Starter-Kit with Python"
   ]
  },
  {
   "cell_type": "markdown",
   "metadata": {},
   "source": [
    "Are you ready to get some machine learning experience under your belt?\n",
    "\n",
    "We are in 2017 and every Fortune 500 company is finding ways to leverage machine learning algorithms to future proof and automate their business.  Leading scientists are predicting Moore's Law on the technology growth will become stale and we will instead see a shift to making machines smarter and more capable. The [effects of machine learning](https://www.forbes.com/sites/bernardmarr/2016/09/30/what-are-the-top-10-use-cases-for-machine-learning-and-ai/#63c6398e94c9) are already impacting everyday life as businesses work to connect with customers and users in a more personalized manner.  Online shopping recommendations, auto-enhancing selfies, self-driving cars, and even the technologies that unlocks our phones are all driven by machine learning technology.\n",
    "\n",
    "The concept of learning math and programming at the same time might be an intimidating thought to most, but rest assured, we will only go into high-level concepts here for this \"regression\" algorithms starter-kit. You might be thinking, what's are regression algorithms used for? Please refer to the diagram below for your quick answer.\n",
    "\n",
    "![alt text](https://github.com/EnxaisRichard/regressionstarterkit/blob/master/images/ds.png?raw=true \"ML Categories\")\n",
    "\n",
    "\n",
    "As Benjamin Franklin said, “Tell me I forget. Teach me I remember. Involve me I learn.” This starter kit provides an introduction to data science and way for you to engage and learn by applying foundational concepts.  This first exercise will use a Forest Fire dataset provided to us by UC Irvine public datasets and will focus on predicting numbers, specifically the “Initial Spread Index or the velocity at which the fire is expected to spread.” We will start by working with just three models to find the optimal prediction. Following the exercise, a link will be provided for additional in-depth learning on the data science concepts that were introduced."
   ]
  },
  {
   "cell_type": "markdown",
   "metadata": {
    "collapsed": true
   },
   "source": [
    "<a id='toc'></a>\n",
    "## Table of Content\n",
    "These are hyperlinks so you can jump to different parts of this tutorial.\n",
    "\n",
    "## [I. Data Science Enviroment Setup](#setup)\n",
    "## [II. Data Ingestion](#ingestion)\n",
    "## [III. Data Pre-Processing](#preprocessing)\n",
    "## [IV. Regression Modeling](#regression)\n",
    "\n",
    "For those interested in copying+pasting the whole code at once, you can find the github repo [here](https://github.com/EnxaisRichard/regressionstarterkit/blob/master/HandsON_Regressions.py)"
   ]
  },
  {
   "cell_type": "markdown",
   "metadata": {},
   "source": [
    "<a id='setup'></a>\n",
    "### I. Data Science Enviroment Setup\n",
    "\n",
    "Step 1. [Download Anaconda based on your system specification](https://www.anaconda.com/download/).\n",
    "\n",
    "Step 2. Open Command Prompt from your start menu.\n",
    "\n",
    "Step 3. Type \"jupyter notebook\".\n",
    "\n",
    "Step 4. Create a folder for all your Data Science Experiments.\n",
    "\n",
    "Step 5. Create a new python 3 file and follow the tutorial below.\n",
    "\n",
    "> For a more in depth guide, please click [here](https://medium.com/k-folds/setting-up-a-data-science-environment-5e6fd1cbd572)."
   ]
  },
  {
   "cell_type": "markdown",
   "metadata": {},
   "source": [
    "![alt text](http://jupyter-notebook.readthedocs.io/en/latest/_images/dashboard-sort.png \"Jupyter Preview\")"
   ]
  },
  {
   "cell_type": "markdown",
   "metadata": {
    "collapsed": true
   },
   "source": [
    "<a id='ingestion'></a>\n",
    "### Data Ingestion\n",
    "[Back to Table of Content](#toc)\n",
    "\n",
    "#### Importing your python Data Science Libraries.\n",
    "For any libraries that do not work, go ahead and open command prompt/terminal again and type in \"pip install #library name\" to download/install python libraries automatically for quick usage."
   ]
  },
  {
   "cell_type": "code",
   "execution_count": 1,
   "metadata": {
    "collapsed": false
   },
   "outputs": [
    {
     "name": "stdout",
     "output_type": "stream",
     "text": [
      "Initial Python libraries are now ready for usage.\n",
      "-------------------------------------\n"
     ]
    }
   ],
   "source": [
    "# <-- By the way, hastags are used to write comments in Python.\n",
    "#I will be commenting most of the code to give context to what is happening.\n",
    "\n",
    "#dataframe library, we call it with variable \"pd\"\n",
    "import pandas as pd\n",
    "\n",
    "#matrix and math library, we call it with variable \"np\"\n",
    "import numpy as np\n",
    "\n",
    "#python system libraries to hide warning output for cleaner notebook\n",
    "import warnings\n",
    "warnings.filterwarnings('ignore')\n",
    "\n",
    "#execute and view python code in any IPython IDE\n",
    "%matplotlib inline\n",
    "\n",
    "#print produces a written output after executing your code\n",
    "print(\"Initial Python libraries are now ready for usage.\")\n",
    "print(\"-------------------------------------\")"
   ]
  },
  {
   "cell_type": "markdown",
   "metadata": {},
   "source": [
    "#### Uploading or referencing a dataset\n",
    "For other different methods of uploading a dataset examples, please click [here](https://chrisalbon.com/python/pandas_dataframe_importing_csv.html)."
   ]
  },
  {
   "cell_type": "code",
   "execution_count": 2,
   "metadata": {
    "collapsed": false
   },
   "outputs": [
    {
     "name": "stdout",
     "output_type": "stream",
     "text": [
      "Pull dataset from http://archive.ics.uci.edu/ml/machine-learning-databases/forest-fires/forestfires.csv\n",
      "-------------------------------------\n",
      "   X  Y month  day  FFMC   DMC     DC  ISI  temp  RH  wind  rain  area\n",
      "0  7  5   mar  fri  86.2  26.2   94.3  5.1   8.2  51   6.7   0.0   0.0\n",
      "1  7  4   oct  tue  90.6  35.4  669.1  6.7  18.0  33   0.9   0.0   0.0\n",
      "2  7  4   oct  sat  90.6  43.7  686.9  6.7  14.6  33   1.3   0.0   0.0\n",
      "3  8  6   mar  fri  91.7  33.3   77.5  9.0   8.3  97   4.0   0.2   0.0\n",
      "4  8  6   mar  sun  89.3  51.3  102.2  9.6  11.4  99   1.8   0.0   0.0\n",
      "-------------------------------------\n"
     ]
    }
   ],
   "source": [
    "#Link from the UC Irvine public dataset on Forest Fires\n",
    "url=\"http://archive.ics.uci.edu/ml/machine-learning-databases/forest-fires/forestfires.csv\"\n",
    "print(\"Pull dataset from {}\".format(url))\n",
    "print(\"-------------------------------------\")\n",
    "\n",
    "#assign a variable to the read URL dataset\n",
    "dataframe = pd.read_csv(url)\n",
    "\n",
    "#preview the first 5 rows/index of the dataset\n",
    "print(dataframe.head(5))\n",
    "print(\"-------------------------------------\")\n"
   ]
  },
  {
   "cell_type": "markdown",
   "metadata": {},
   "source": [
    "#### Forest Fire Dataset\n",
    "We will be experimenting with the Forest Fire Data. The target value we will be predicting will be \"ISI - Initial Spread Index.\"  \n",
    "UC Irvine has kindly provided the full variable descriptions as shown below.\n",
    "\n",
    "The forest Fire Weather Index (FWI) is the Canadian system for rating fire danger and it includes six components: Fine Fuel Moisture Code (FFMC), Duff Moisture Code (DMC), Drought Code (DC), Initial Spread Index (ISI), Buildup Index (BUI) and FWI. The first three are related to fuel codes: the FFMC denotes the moisture content surface litter and influences ignition and fire spread, while the DMC and DC represent the moisture content of shallow and deep organic layers, which affect fire intensity. The ISI is a score that correlates with fire velocity spread, while BUI represents the amount of available fuel. The FWI index is an indicator of fire intensity and it combines the two previous components.\n",
    "\n",
    "   1. X - x-axis spatial coordinate within the Montesinho park map: 1 to 9\n",
    "   2. Y - y-axis spatial coordinate within the Montesinho park map: 2 to 9\n",
    "   3. month - month of the year: \"jan\" to \"dec\" \n",
    "   4. day - day of the week: \"mon\" to \"sun\"\n",
    "   5. FFMC - Fine Fuel Moisture Code Index from the FWI system: 18.7 to 96.20\n",
    "   6. DMC - Duff Moisture Code Index from the FWI system: 1.1 to 291.3 \n",
    "   7. DC - Drought Code Index from the FWI system: 7.9 to 860.6 \n",
    "   8. ISI - Initial Spread Index from the FWI system: 0.0 to 56.10\n",
    "   9. temp - temperature in Celsius degrees: 2.2 to 33.30\n",
    "   10. RH - relative humidity in %: 15.0 to 100\n",
    "   11. wind - wind speed in km/h: 0.40 to 9.40 \n",
    "   12. rain - outside rain in mm/m2 : 0.0 to 6.4 \n",
    "   13. area - the burned area of the forest (in ha): 0.00 to 1090.84 \n",
    "   (this output variable is very skewed towards 0.0, thus it may make\n",
    "    sense to model with the logarithm transform)\n",
    "    \n",
    "For more details about the dataset, please refer to the [link](http://archive.ics.uci.edu/ml/machine-learning-databases/forest-fires/forestfires.names).\n",
    "\n",
    "\n",
    "For more details about the Fire index, please refer to this [link](http://www.fbfrg.org/cffdrs/fire-weather-index-fwi-system)."
   ]
  },
  {
   "cell_type": "markdown",
   "metadata": {},
   "source": [
    "<a id='preprocessing'></a>\n",
    "### Data Pre-Processing\n",
    "[Back to Table of Content](#toc)\n",
    "\n",
    "Most dataset you work with requires a lot of data cleaning before modeling.  In this exercise, we assume most of the data have already been cleansed from missing, wrong, duplicates, or out of range data.\n",
    "\n",
    "For a further in-depth guide to data pre-processing, please refer [here](https://www.analyticsvidhya.com/blog/2016/07/practical-guide-data-preprocessing-python-scikit-learn/)"
   ]
  },
  {
   "cell_type": "code",
   "execution_count": 3,
   "metadata": {
    "collapsed": false
   },
   "outputs": [
    {
     "name": "stdout",
     "output_type": "stream",
     "text": [
      "Data Types\n",
      "X          int64\n",
      "Y          int64\n",
      "month     object\n",
      "day       object\n",
      "FFMC     float64\n",
      "DMC      float64\n",
      "DC       float64\n",
      "ISI      float64\n",
      "temp     float64\n",
      "RH         int64\n",
      "wind     float64\n",
      "rain     float64\n",
      "area     float64\n",
      "dtype: object\n",
      "-------------------------------------\n",
      "Data Statistical Summary\n",
      "                X           Y        FFMC         DMC          DC         ISI  \\\n",
      "count  517.000000  517.000000  517.000000  517.000000  517.000000  517.000000   \n",
      "mean     4.669246    4.299807   90.644681  110.872340  547.940039    9.021663   \n",
      "std      2.313778    1.229900    5.520111   64.046482  248.066192    4.559477   \n",
      "min      1.000000    2.000000   18.700000    1.100000    7.900000    0.000000   \n",
      "25%      3.000000    4.000000   90.200000   68.600000  437.700000    6.500000   \n",
      "50%      4.000000    4.000000   91.600000  108.300000  664.200000    8.400000   \n",
      "75%      7.000000    5.000000   92.900000  142.400000  713.900000   10.800000   \n",
      "max      9.000000    9.000000   96.200000  291.300000  860.600000   56.100000   \n",
      "\n",
      "             temp          RH        wind        rain         area  \n",
      "count  517.000000  517.000000  517.000000  517.000000   517.000000  \n",
      "mean    18.889168   44.288201    4.017602    0.021663    12.847292  \n",
      "std      5.806625   16.317469    1.791653    0.295959    63.655818  \n",
      "min      2.200000   15.000000    0.400000    0.000000     0.000000  \n",
      "25%     15.500000   33.000000    2.700000    0.000000     0.000000  \n",
      "50%     19.300000   42.000000    4.000000    0.000000     0.520000  \n",
      "75%     22.800000   53.000000    4.900000    0.000000     6.570000  \n",
      "max     33.300000  100.000000    9.400000    6.400000  1090.840000  \n",
      "-------------------------------------\n",
      "Category columns have been encoded for machine learning\n",
      "   X  Y month  day  FFMC   DMC     DC  ISI  temp  RH  wind  rain  area  \\\n",
      "0  7  5   mar  fri  86.2  26.2   94.3  5.1   8.2  51   6.7   0.0   0.0   \n",
      "1  7  4   oct  tue  90.6  35.4  669.1  6.7  18.0  33   0.9   0.0   0.0   \n",
      "2  7  4   oct  sat  90.6  43.7  686.9  6.7  14.6  33   1.3   0.0   0.0   \n",
      "3  8  6   mar  fri  91.7  33.3   77.5  9.0   8.3  97   4.0   0.2   0.0   \n",
      "4  8  6   mar  sun  89.3  51.3  102.2  9.6  11.4  99   1.8   0.0   0.0   \n",
      "\n",
      "   month_code  day_code  \n",
      "0           7         0  \n",
      "1          10         5  \n",
      "2          10         2  \n",
      "3           7         0  \n",
      "4           7         3  \n",
      "-------------------------------------\n"
     ]
    }
   ],
   "source": [
    "#preview the data type for each columns\n",
    "print(\"Data Types\")\n",
    "print(dataframe.dtypes)\n",
    "print(\"-------------------------------------\")\n",
    "\n",
    "#code to summarize statistics of your current dataset BEFORE Label Encoding and Data Scaling\n",
    "print(\"Data Statistical Summary\")\n",
    "print(dataframe.describe())\n",
    "print(\"-------------------------------------\")\n",
    "\n",
    "\n",
    "#sklearn libraries are the Data Science Gold Standard library for Python\n",
    "#pre-processing library is used for data preparation\n",
    "from sklearn.preprocessing import LabelEncoder\n",
    "#create encoding object to convert categorical value to numeric\n",
    "encode = LabelEncoder()\n",
    "#create additional 2 columns to convert category columns (Month & Days) into numeric values\n",
    "dataframe['month_code'] = encode.fit_transform(dataframe['month'])\n",
    "dataframe['day_code'] = encode.fit_transform(dataframe['day'])\n",
    "\n",
    "print(\"Category columns have been encoded for machine learning\")\n",
    "print(dataframe.head(5))\n",
    "print(\"-------------------------------------\")\n"
   ]
  },
  {
   "cell_type": "markdown",
   "metadata": {},
   "source": [
    "Our purpose for statistical summary is to examine our dataset for any unusual outliers or missing data that could throw off our model."
   ]
  },
  {
   "cell_type": "markdown",
   "metadata": {},
   "source": [
    "#### Data Visualization - Correlation Plot\n",
    "There are many creative method to visually analyze your dataset in order to make hypothesis on your prediction. The most commonly used visual for any regression algorithms are correlation plots. \n",
    "\n",
    "For more details on other visual methods, please refer [here](http://pbpython.com/simple-graphing-pandas.html)"
   ]
  },
  {
   "cell_type": "code",
   "execution_count": 4,
   "metadata": {
    "collapsed": false
   },
   "outputs": [
    {
     "name": "stdout",
     "output_type": "stream",
     "text": [
      "-------------------------------------\n"
     ]
    },
    {
     "data": {
      "image/png": "[encoded data removed]",
      "text/plain": [
       "<matplotlib.figure.Figure at 0x234d21d9198>"
      ]
     },
     "metadata": {},
     "output_type": "display_data"
    }
   ],
   "source": [
    "#python math plotting/chart library\n",
    "import seaborn as sns\n",
    "import matplotlib.pyplot as plt\n",
    "\n",
    "#code to plot correlation strength amongst all varaibles/columns\n",
    "fig, ax = plt.subplots(figsize=(12,10))\n",
    "sns.heatmap(dataframe.corr(), annot=True, fmt=\".2f\")\n",
    "\n",
    "print(\"-------------------------------------\")"
   ]
  },
  {
   "cell_type": "markdown",
   "metadata": {},
   "source": [
    "We can see that ISI is mostly correlated with the variables: FFMC(.53), temp(.39), DMC(.31), AND DC(.23). It will be interesting to find how [feature importance](https://en.wikipedia.org/wiki/Feature_selection) result are effected from the correlation plot.  In other words, does having highly correlated variable make the determining factor for your machine learning algorithms?  We shall wait and see the results below. "
   ]
  },
  {
   "cell_type": "markdown",
   "metadata": {},
   "source": [
    "#### Data Scaling/Normalization\n",
    "It is generally best practice to scale your training dataset from values 0-1. Doing so won't harm your correlation, but allows your models to run faster as well as be more effective with usage of \"non-linear\" regression models.\n",
    "\n",
    "Fore more details about data scaling or normalization, please [refer here](https://en.wikipedia.org/wiki/Feature_scaling)."
   ]
  },
  {
   "cell_type": "code",
   "execution_count": 5,
   "metadata": {
    "collapsed": false
   },
   "outputs": [
    {
     "name": "stdout",
     "output_type": "stream",
     "text": [
      "The predicting variables used are: ['X', 'Y', 'month', 'day', 'FFMC', 'DMC', 'DC', 'temp', 'RH', 'wind', 'rain', 'area', 'month_code', 'day_code']\n",
      "-------------------------------------\n",
      "The target variable we are predicting is: ISI\n",
      "-------------------------------------\n",
      "Training dataset have been scaled from 0 to 1.\n",
      "                X           Y        FFMC         DMC          DC        temp  \\\n",
      "count  517.000000  517.000000  517.000000  517.000000  517.000000  517.000000   \n",
      "mean     0.458656    0.328544    0.928318    0.378264    0.633329    0.536629   \n",
      "std      0.289222    0.175700    0.071227    0.220698    0.290918    0.186708   \n",
      "min      0.000000    0.000000    0.000000    0.000000    0.000000    0.000000   \n",
      "25%      0.250000    0.285714    0.922581    0.232598    0.504046    0.427653   \n",
      "50%      0.375000    0.285714    0.940645    0.369400    0.769673    0.549839   \n",
      "75%      0.750000    0.428571    0.957419    0.486906    0.827958    0.662379   \n",
      "max      1.000000    1.000000    1.000000    1.000000    1.000000    1.000000   \n",
      "\n",
      "               RH        wind        rain        area  month_code    day_code  \n",
      "count  517.000000  517.000000  517.000000  517.000000  517.000000  517.000000  \n",
      "mean     0.344567    0.401956    0.003385    0.011777    0.523475    0.456157  \n",
      "std      0.191970    0.199073    0.046244    0.058355    0.397570    0.320844  \n",
      "min      0.000000    0.000000    0.000000    0.000000    0.000000    0.000000  \n",
      "25%      0.211765    0.255556    0.000000    0.000000    0.090909    0.166667  \n",
      "50%      0.317647    0.400000    0.000000    0.000477    0.545455    0.500000  \n",
      "75%      0.447059    0.500000    0.000000    0.006023    1.000000    0.666667  \n",
      "max      1.000000    1.000000    1.000000    1.000000    1.000000    1.000000  \n",
      "-------------------------------------\n"
     ]
    }
   ],
   "source": [
    "from sklearn.preprocessing import MinMaxScaler\n",
    "#call scaler function(converting range of value in column from 0-1) from sklearn\n",
    "scaler = MinMaxScaler()\n",
    "\n",
    "#filter the dataframe with a variable: train:predictors & target:target\n",
    "\n",
    "target_column = 'ISI'\n",
    "#every column except target column\n",
    "train = dataframe.loc[:, dataframe.columns != target_column]\n",
    "target = dataframe[target_column]\n",
    "\n",
    "print(\"The predicting variables used are: {}\".format(list(train)))\n",
    "print(\"-------------------------------------\")\n",
    "print(\"The target variable we are predicting is: {}\".format(target_column))\n",
    "print(\"-------------------------------------\")\n",
    "\n",
    "\n",
    "#select only numeric columns for data scaling\n",
    "train = train.select_dtypes(exclude=['object'])\n",
    "#apply scaler function to the train or predictors dataset\n",
    "scaled_train = scaler.fit_transform(train)\n",
    "print(\"Training dataset have been scaled from 0 to 1.\")\n",
    "\n",
    "#code to summarize statistics of your current dataset AFTER Label Encoding\n",
    "scaled_features_df = pd.DataFrame(scaled_train, index=train.index, columns=train.columns)\n",
    "print(scaled_features_df.describe())\n",
    "print(\"-------------------------------------\")\n"
   ]
  },
  {
   "cell_type": "markdown",
   "metadata": {},
   "source": [
    "#### Data Splitting\n",
    "\n",
    "It is recommended in Data Science procedure to split your dataset by a large percent chunk for training and use the model created on training set to evaluate its competency in our remaining test set. In other words, the \"math\" is built with the train set, and we test our \"math\" in the test set.  In our example, we will split the training set by 80% and leave the remaining 20% as testing.\n",
    "\n",
    "![alt text](https://github.com/EnxaisRichard/regressionstarterkit/blob/master/images/splitting_data.PNG?raw=true \"Train and Test Datasets\")\n",
    "\n",
    "For more explanation, please refer to this link [here](https://info.salford-systems.com/blog/bid/337783/Why-Data-Scientists-Split-Data-into-Train-and-Test)"
   ]
  },
  {
   "cell_type": "code",
   "execution_count": 6,
   "metadata": {
    "collapsed": false
   },
   "outputs": [
    {
     "name": "stdout",
     "output_type": "stream",
     "text": [
      "Training dataset have been split and assign to new variables.\n",
      "@_train set are the 80% of the data.\n",
      "(413, 12)\n",
      "@_test set are the remaining 20% of the data.\n",
      "(104, 12)\n",
      "-------------------------------------\n"
     ]
    },
    {
     "name": "stderr",
     "output_type": "stream",
     "text": [
      "C:\\Users\\Richard\\Anaconda3\\lib\\site-packages\\sklearn\\cross_validation.py:44: DeprecationWarning: This module was deprecated in version 0.18 in favor of the model_selection module into which all the refactored classes and functions are moved. Also note that the interface of the new CV iterators are different from that of this module. This module will be removed in 0.20.\n",
      "  \"This module will be removed in 0.20.\", DeprecationWarning)\n"
     ]
    }
   ],
   "source": [
    "from sklearn.cross_validation import train_test_split\n",
    "#split the dataset into a training set(80% of the data) and test set(20% of the data)\n",
    "X_train, X_test, y_train, y_test = train_test_split(scaled_features_df, target, test_size = 0.2)\n",
    "print(\"Training dataset have been split and assign to new variables.\")\n",
    "print(\"@_train set are the 80% of the data.\")\n",
    "print(X_train.shape)\n",
    "print(\"@_test set are the remaining 20% of the data.\")\n",
    "print(X_test.shape)\n",
    "print(\"-------------------------------------\")"
   ]
  },
  {
   "cell_type": "markdown",
   "metadata": {},
   "source": [
    "<a id='regression'></a>\n",
    "### Regressions Modeling\n",
    "[Back to Table of Content](#toc)\n",
    "\n",
    "Lets get to the juicy part and actually apply some machine learning models to our ready splitted dataset.  Most of the algorithms have been packaged by [sklearn](http://scikit-learn.org/stable/) which makes the code application or usage of machine learning easier than you think.\n",
    "\n",
    "For more details about regression analysis, please refer to the link [here](https://www.analyticsvidhya.com/blog/2015/08/comprehensive-guide-regression/)"
   ]
  },
  {
   "cell_type": "markdown",
   "metadata": {},
   "source": [
    "#### Hyper-Parameter Tuning & Cross Validation\n",
    "\n",
    "##### Hyper-Parameter Tuning\n",
    "Most machine learning models have a fixed numbers of parameters that can be tuned for a given solution. Finding the optimal combination manually is challenge. Therefore, we automated the parameter search process by running all possible combinations for the best score in a given list(GridSearchCV). \n",
    "\n",
    "For a more in-depth guide for hyper-parameter tuning, please refer to the link [here](https://machinelearningmastery.com/how-to-tune-algorithm-parameters-with-scikit-learn/)\n"
   ]
  },
  {
   "cell_type": "code",
   "execution_count": 7,
   "metadata": {
    "collapsed": false,
    "scrolled": true
   },
   "outputs": [
    {
     "name": "stdout",
     "output_type": "stream",
     "text": [
      "Regressions' parameters defined.\n",
      "-------------------------------------\n",
      "Regression objects assigned to variables.\n",
      "-------------------------------------\n",
      "variable cycles aligned and set.\n",
      "-------------------------------------\n"
     ]
    }
   ],
   "source": [
    "#sklearn libraries for actually preforming machine learning\n",
    "from sklearn.ensemble import RandomForestRegressor\n",
    "from sklearn.ensemble import AdaBoostRegressor\n",
    "from sklearn.ensemble import GradientBoostingRegressor\n",
    "from sklearn.tree import DecisionTreeRegressor\n",
    "\n",
    "#python library tool to switch variables for independent loops\n",
    "import itertools\n",
    "\n",
    "#Gradient Boost Machine Parameters\n",
    "gbm_params = {'n_estimators': [50, 100], \n",
    "              'max_depth': [1,5,7], \n",
    "              'min_samples_split': [2,3,4],\n",
    "              'learning_rate':[0.01,0.1,0.5,1]}\n",
    "\n",
    "#Adaboost Parameters\n",
    "ada_params = {'n_estimators': [50, 100],             \n",
    "              'base_estimator': [DecisionTreeRegressor(max_depth=1),\n",
    "                                 DecisionTreeRegressor(max_depth=5), \n",
    "                                 DecisionTreeRegressor(max_depth=5)], \n",
    "              'learning_rate':[0.01,0.1,0.5,1], \n",
    "              'random_state':[88]}\n",
    "\n",
    "#Random Forest Parameters\n",
    "rf_params = {'n_estimators': [50, 100], \n",
    "              'max_depth': [1,5,7], \n",
    "              'min_samples_split': [2,3,4], \n",
    "             'random_state':[88]}\n",
    "\n",
    "print(\"Regressions' parameters defined.\")\n",
    "print(\"-------------------------------------\")\n",
    "\n",
    "#Assign Regression object from Sklearn to a variable\n",
    "gbm_estimator = GradientBoostingRegressor(**gbm_params)\n",
    "ada_estimator = AdaBoostRegressor(**ada_params)\n",
    "rf_estimator = RandomForestRegressor(**rf_params)\n",
    "print(\"Regression objects assigned to variables.\")\n",
    "print(\"-------------------------------------\")\n",
    "\n",
    "#Create a cycle for different regression variables to be used in a set loop we will create\n",
    "reg_names_cycle = [\"Gradient Boost Machine Regression\", \"AdaBoost Regession\", \"Random Forest Regression\"]\n",
    "reg_params_cycle = [gbm_params, ada_params, rf_params]\n",
    "reg_estimator_cycle = [gbm_estimator, ada_estimator, rf_estimator]\n",
    "print(\"variable cycles aligned and set.\")\n",
    "print(\"-------------------------------------\")\n",
    "\n"
   ]
  },
  {
   "cell_type": "markdown",
   "metadata": {},
   "source": [
    "##### Cross-Validation\n",
    "[Back to Table of Content](#toc)\n",
    "To test your model consistent, typically you have to divide your data out K number of times as well as run the model K number of times with different subsets of training and validation datasets each round.\n",
    "\n",
    "![alt text](https://github.com/EnxaisRichard/regressionstarterkit/blob/master/images/cross-validation.PNG?raw=true \"4KFolds Cross-Validation\")\n",
    "\n",
    "\n",
    "For a more in-depth guide for cross-validation, please refer to the link [here](https://www.analyticsvidhya.com/blog/2015/11/improve-model-performance-cross-validation-in-python-r/)"
   ]
  },
  {
   "cell_type": "code",
   "execution_count": 8,
   "metadata": {
    "collapsed": false
   },
   "outputs": [
    {
     "name": "stdout",
     "output_type": "stream",
     "text": [
      "x is 0.\n",
      "Current_reg_name is Gradient Boost Machine Regression.\n",
      "Current_regression is GradientBoostingRegressor(alpha=0.9, criterion='friedman_mse', init=None,\n",
      "             learning_rate=[0.01, 0.1, 0.5, 1], loss='ls',\n",
      "             max_depth=[1, 5, 7], max_features=None, max_leaf_nodes=None,\n",
      "             min_impurity_split=1e-07, min_samples_leaf=1,\n",
      "             min_samples_split=[2, 3, 4], min_weight_fraction_leaf=0.0,\n",
      "             n_estimators=[50, 100], presort='auto', random_state=None,\n",
      "             subsample=1.0, verbose=0, warm_start=False).\n",
      "Current_parameters is {'n_estimators': [50, 100], 'max_depth': [1, 5, 7], 'min_samples_split': [2, 3, 4], 'learning_rate': [0.01, 0.1, 0.5, 1]}.\n",
      "Fitting 4 folds for each of 72 candidates, totalling 288 fits\n"
     ]
    },
    {
     "name": "stderr",
     "output_type": "stream",
     "text": [
      "[Parallel(n_jobs=1)]: Done 288 out of 288 | elapsed:   12.8s finished\n"
     ]
    },
    {
     "name": "stdout",
     "output_type": "stream",
     "text": [
      "            importance\n",
      "feature               \n",
      "temp             0.171\n",
      "DC               0.138\n",
      "DMC              0.130\n",
      "FFMC             0.125\n",
      "RH               0.116\n",
      "area             0.092\n",
      "wind             0.068\n",
      "X                0.056\n",
      "Y                0.044\n",
      "day_code         0.036\n",
      "month_code       0.023\n",
      "rain             0.002\n",
      "\n",
      "The optimal 4 KFolds Cross Validation Mean score on our training data with a Gradient Boost Machine Regression is 0.7295895455525695\n",
      "Using the recommended parameters:\n",
      "{'learning_rate': 0.5, 'max_depth': 7, 'min_samples_split': 3, 'n_estimators': 50}\n",
      "\n",
      "The Gradient Boost Machine Regression provides a Train Data score of: 0.9999999787938295\n",
      "The Gradient Boost Machine Regression provides a Test Data score of: 0.7159907873383698\n",
      "-------------------------------------\n",
      "Saved current_regression optimal parameters back to reg_names_cycle variable\n",
      "-------------------------------------\n",
      "x is 1.\n",
      "Current_reg_name is AdaBoost Regession.\n",
      "Current_regression is AdaBoostRegressor(base_estimator=[DecisionTreeRegressor(criterion='mse', max_depth=1, max_features=None,\n",
      "           max_leaf_nodes=None, min_impurity_split=1e-07,\n",
      "           min_samples_leaf=1, min_samples_split=2,\n",
      "           min_weight_fraction_leaf=0.0, presort=False, random_state=None,\n",
      "           splitter='best'),...        min_weight_fraction_leaf=0.0, presort=False, random_state=None,\n",
      "           splitter='best')],\n",
      "         learning_rate=[0.01, 0.1, 0.5, 1], loss='linear',\n",
      "         n_estimators=[50, 100], random_state=[88]).\n",
      "Current_parameters is {'n_estimators': [50, 100], 'base_estimator': [DecisionTreeRegressor(criterion='mse', max_depth=1, max_features=None,\n",
      "           max_leaf_nodes=None, min_impurity_split=1e-07,\n",
      "           min_samples_leaf=1, min_samples_split=2,\n",
      "           min_weight_fraction_leaf=0.0, presort=False, random_state=None,\n",
      "           splitter='best'), DecisionTreeRegressor(criterion='mse', max_depth=5, max_features=None,\n",
      "           max_leaf_nodes=None, min_impurity_split=1e-07,\n",
      "           min_samples_leaf=1, min_samples_split=2,\n",
      "           min_weight_fraction_leaf=0.0, presort=False, random_state=None,\n",
      "           splitter='best'), DecisionTreeRegressor(criterion='mse', max_depth=5, max_features=None,\n",
      "           max_leaf_nodes=None, min_impurity_split=1e-07,\n",
      "           min_samples_leaf=1, min_samples_split=2,\n",
      "           min_weight_fraction_leaf=0.0, presort=False, random_state=None,\n",
      "           splitter='best')], 'learning_rate': [0.01, 0.1, 0.5, 1], 'random_state': [88]}.\n",
      "Fitting 4 folds for each of 24 candidates, totalling 96 fits\n"
     ]
    },
    {
     "name": "stderr",
     "output_type": "stream",
     "text": [
      "[Parallel(n_jobs=1)]: Done  96 out of  96 | elapsed:   11.6s finished\n"
     ]
    },
    {
     "name": "stdout",
     "output_type": "stream",
     "text": [
      "            importance\n",
      "feature               \n",
      "FFMC             0.445\n",
      "DC               0.291\n",
      "RH               0.061\n",
      "DMC              0.044\n",
      "Y                0.038\n",
      "temp             0.024\n",
      "X                0.023\n",
      "wind             0.023\n",
      "month_code       0.023\n",
      "day_code         0.022\n",
      "area             0.006\n",
      "rain             0.000\n",
      "\n",
      "The optimal 4 KFolds Cross Validation Mean score on our training data with a AdaBoost Regession is 0.7109722093434867\n",
      "Using the recommended parameters:\n",
      "{'base_estimator': DecisionTreeRegressor(criterion='mse', max_depth=5, max_features=None,\n",
      "           max_leaf_nodes=None, min_impurity_split=1e-07,\n",
      "           min_samples_leaf=1, min_samples_split=2,\n",
      "           min_weight_fraction_leaf=0.0, presort=False, random_state=None,\n",
      "           splitter='best'), 'learning_rate': 0.5, 'n_estimators': 100, 'random_state': 88}\n",
      "\n",
      "The AdaBoost Regession provides a Train Data score of: 0.9369752238496655\n",
      "The AdaBoost Regession provides a Test Data score of: 0.7416830824108224\n",
      "-------------------------------------\n",
      "Saved current_regression optimal parameters back to reg_names_cycle variable\n",
      "-------------------------------------\n",
      "x is 2.\n",
      "Current_reg_name is Random Forest Regression.\n",
      "Current_regression is RandomForestRegressor(bootstrap=True, criterion='mse', max_depth=[1, 5, 7],\n",
      "           max_features='auto', max_leaf_nodes=None,\n",
      "           min_impurity_split=1e-07, min_samples_leaf=1,\n",
      "           min_samples_split=[2, 3, 4], min_weight_fraction_leaf=0.0,\n",
      "           n_estimators=[50, 100], n_jobs=1, oob_score=False,\n",
      "           random_state=[88], verbose=0, warm_start=False).\n",
      "Current_parameters is {'n_estimators': [50, 100], 'max_depth': [1, 5, 7], 'min_samples_split': [2, 3, 4], 'random_state': [88]}.\n",
      "Fitting 4 folds for each of 18 candidates, totalling 72 fits\n",
      "            importance\n",
      "feature               \n",
      "FFMC             0.651\n",
      "DC               0.208\n",
      "DMC              0.048\n",
      "wind             0.023\n",
      "RH               0.018\n",
      "day_code         0.014\n",
      "month_code       0.010\n",
      "temp             0.009\n",
      "X                0.007\n",
      "Y                0.005\n",
      "area             0.005\n",
      "rain             0.000\n",
      "\n",
      "The optimal 4 KFolds Cross Validation Mean score on our training data with a Random Forest Regression is 0.7031077308060999\n",
      "Using the recommended parameters:\n",
      "{'max_depth': 7, 'min_samples_split': 4, 'n_estimators': 50, 'random_state': 88}\n",
      "\n",
      "The Random Forest Regression provides a Train Data score of: 0.8595948026485661\n",
      "The Random Forest Regression provides a Test Data score of: 0.7419572238152456\n",
      "-------------------------------------\n",
      "Saved current_regression optimal parameters back to reg_names_cycle variable\n",
      "-------------------------------------\n"
     ]
    },
    {
     "name": "stderr",
     "output_type": "stream",
     "text": [
      "[Parallel(n_jobs=1)]: Done  72 out of  72 | elapsed:   10.3s finished\n"
     ]
    }
   ],
   "source": [
    "#sklearn libraries for paramter tuning\n",
    "from sklearn.model_selection import GridSearchCV\n",
    "\n",
    "#number of regression used\n",
    "number_of_regressions = 3\n",
    "\n",
    "#Set a loop to go through each regression\n",
    "for x in range(number_of_regressions):\n",
    "    #create variables for each cycle iterations\n",
    "    current_regression = reg_estimator_cycle[x]\n",
    "    current_parameters = reg_params_cycle[x]\n",
    "    current_reg_name = reg_names_cycle[x]\n",
    "    print(\"x is {}.\".format(x))\n",
    "    print(\"Current_reg_name is {}.\".format(current_reg_name))\n",
    "    print(\"Current_regression is {}.\".format(current_regression))\n",
    "    print(\"Current_parameters is {}.\".format(current_parameters))\n",
    "    \n",
    "    #run through all different parameters setting to find the best score\n",
    "    current_regression = GridSearchCV(current_regression, current_parameters, verbose=1, cv=4).fit(X_train, y_train)\n",
    "    \n",
    "    #provide feature importance for each regression model\n",
    "    importances = pd.DataFrame({'feature':scaled_features_df.columns,'importance':np.round(current_regression.best_estimator_.feature_importances_,3)})\n",
    "    importances = importances.sort_values('importance',ascending=False).set_index('feature')\n",
    "    print(importances)\n",
    "    print()\n",
    "    \n",
    "    #print out best mean cross validation scores\n",
    "    current_best_cv_score =  current_regression.best_score_\n",
    "    print(\"The optimal 4 KFolds Cross Validation Mean score on our training data with a {} is {}\".format(current_reg_name, current_best_cv_score))\n",
    "    print(\"Using the recommended parameters:\")\n",
    "    print(current_regression.best_params_)\n",
    "    print()\n",
    "    \n",
    "    #run best parameters on training and test data, then assign variables\n",
    "    current_r2_train_score =current_regression.score(X_train,y_train)\n",
    "    current_r2_test_score = current_regression.score(X_test,y_test)\n",
    "    print(\"The {} provides a Train Data score of: {}\".format(current_reg_name, current_r2_train_score))\n",
    "    print(\"The {} provides a Test Data score of: {}\".format(current_reg_name, current_r2_test_score))\n",
    "    print(\"-------------------------------------\")\n",
    "    \n",
    "    \n",
    "    #save back to reg_estimator_cycle for scoring later\n",
    "    reg_estimator_cycle[x] = current_regression\n",
    "    print(\"Saved current_regression optimal parameters back to reg_names_cycle variable\")\n",
    "    print(\"-------------------------------------\")"
   ]
  },
  {
   "cell_type": "markdown",
   "metadata": {},
   "source": [
    "#### Evaluation Metric\n",
    "[Back to Table of Content](#toc)\n",
    "\n",
    "In this example we will be using the coefficient of determination to score our model performance. It rates the model from 0-100 percent, making it very easy to interpret.\n",
    "\n",
    "For more evaluation metric for modeling performance, please check out the link [here](https://machinelearningmastery.com/metrics-evaluate-machine-learning-algorithms-python/)."
   ]
  },
  {
   "cell_type": "code",
   "execution_count": 9,
   "metadata": {
    "collapsed": false
   },
   "outputs": [
    {
     "name": "stdout",
     "output_type": "stream",
     "text": [
      "The Gradient Boost Machine Regression provides a Train Data score of: 0.9999999787938295\n",
      "The Gradient Boost Machine Regression provides a Test Data score of: 0.7159907873383698\n",
      "The Gradient Boost Machine Regression have been assigned to prediction variable for plotting\n",
      "-------------------------------------\n",
      "The AdaBoost Regession provides a Train Data score of: 0.9369752238496655\n",
      "The AdaBoost Regession provides a Test Data score of: 0.7416830824108224\n",
      "The AdaBoost Regession have been assigned to prediction variable for plotting\n",
      "-------------------------------------\n",
      "The Random Forest Regression provides a Train Data score of: 0.8595948026485661\n",
      "The Random Forest Regression provides a Test Data score of: 0.7419572238152456\n",
      "The Random Forest Regression have been assigned to prediction variable for plotting\n",
      "-------------------------------------\n"
     ]
    }
   ],
   "source": [
    "#create list of empty arrays for predictions\n",
    "length_predictions = len(X_test)\n",
    "gbm_predictions = []\n",
    "ada_predictions = []\n",
    "rf_predictions = []\n",
    "\n",
    "reg_predictions_cycle = [gbm_predictions, ada_predictions, rf_predictions]\n",
    "\n",
    "for x in range(number_of_regressions):   \n",
    "    #create variables for each cycle iterations\n",
    "    current_regression = reg_estimator_cycle[x]\n",
    "    current_reg_name = reg_names_cycle[x]\n",
    "    \n",
    "    #run best parameters on training and test data, then assign variables\n",
    "    current_r2_train_score =current_regression.score(X_train,y_train)\n",
    "    current_r2_test_score = current_regression.score(X_test,y_test)\n",
    "    print(\"The {} provides a Train Data score of: {}\".format(current_reg_name, current_r2_train_score))\n",
    "    print(\"The {} provides a Test Data score of: {}\".format(current_reg_name, current_r2_test_score))\n",
    "    \n",
    "    #assign best parameter predictions\n",
    "    reg_predictions_cycle[x] = current_regression.predict(X_test)\n",
    "    print(\"The {} have been assigned to prediction variable for plotting\".format(current_reg_name))\n",
    "    print(\"-------------------------------------\")\n",
    "    \n",
    "    "
   ]
  },
  {
   "cell_type": "markdown",
   "metadata": {
    "collapsed": false
   },
   "source": [
    "#### Conclusion\n",
    "[Back to Table of Content](#toc)\n",
    "\n",
    "If your accuracy is close to 99% accuracy, you can always assume the model is [overfitted](https://machinelearningmastery.com/overfitting-and-underfitting-with-machine-learning-algorithms/), meaning the model is very bias in nature and will be very inaccurate when introduced new data.  Typically, there is a \"sweet spot\" and it is generally found when your train and test score is close enough (too close indicates [underfitting](https://machinelearningmastery.com/overfitting-and-underfitting-with-machine-learning-algorithms/) to each other."
   ]
  },
  {
   "cell_type": "code",
   "execution_count": 10,
   "metadata": {
    "collapsed": false
   },
   "outputs": [
    {
     "name": "stdout",
     "output_type": "stream",
     "text": [
      "function for graph completed\n",
      "-------------------------------------\n"
     ]
    }
   ],
   "source": [
    "#we create function to plot actual vs predicted target values\n",
    "def actual_vs_predicted(predicted_values, regression_names, test_score, train_score, color):   \n",
    "    plt.figure(figsize=(15,7.5))\n",
    "    plt.scatter(y_test, predicted_values, color=color, label=regression_names, s=10)\n",
    "    test_score = np.round(test_score,3)\n",
    "    train_score = np.round(train_score,3)\n",
    "    plt.title(\"{} - Actual vs Predicted with Test r2  Score: {} & Train r2 Score: {}.\".format(regression_names, test_score, train_score))\n",
    "    plt.xlabel(\"Actual Value\")\n",
    "    plt.ylabel(\"Predicted Value\")\n",
    "    plt.plot([min(y_test), max(y_test)], [min(y_test), max(y_test)])\n",
    "    plt.legend()\n",
    "    plt.show()\n",
    "    \n",
    "print(\"function for graph completed\")\n",
    "print(\"-------------------------------------\")"
   ]
  },
  {
   "cell_type": "code",
   "execution_count": 11,
   "metadata": {
    "collapsed": false
   },
   "outputs": [
    {
     "data": {
      "image/png": "[encoded data removed]",
      "text/plain": [
       "<matplotlib.figure.Figure at 0x234d49a06d8>"
      ]
     },
     "metadata": {},
     "output_type": "display_data"
    },
    {
     "name": "stdout",
     "output_type": "stream",
     "text": [
      "-------------------------------------\n"
     ]
    }
   ],
   "source": [
    "#place all variables created through function for plotting actual vs predicted values\n",
    "plt.figure(figsize=(15,7.5))\n",
    "plt.scatter(y_test, reg_predictions_cycle[0], color=\"r\", label=\"Gradient Boost Machine Regression\", s=10)\n",
    "plt.scatter(y_test, reg_predictions_cycle[1], color=\"b\", label=\"AdaBoost Regession\", s=10)\n",
    "plt.scatter(y_test, reg_predictions_cycle[2], color=\"g\", label=\"Random Forest Regession\", s=10)\n",
    "plt.title(\"Actual vs Predicted\")\n",
    "plt.xlabel(\"Actual Value\")\n",
    "plt.ylabel(\"Predicted Value\")\n",
    "plt.plot([min(y_test), max(y_test)], [min(y_test), max(y_test)])\n",
    "plt.legend()\n",
    "plt.show()\n",
    "print(\"-------------------------------------\")"
   ]
  },
  {
   "cell_type": "markdown",
   "metadata": {
    "collapsed": true
   },
   "source": [
    "We can conclude the fitting for Random Forest seems most promising as GBM and AdaBoost Regression shows greater outliers for their prediction points. Remember, Random Forest train and test score were not the highest, but the delta score between them were the lowest. [Lesson learned here](http://blog.minitab.com/blog/adventures-in-statistics-2/regression-analysis-how-do-i-interpret-r-squared-and-assess-the-goodness-of-fit) is to always be sure to check your residual plots, because you can't judge a score by its high value."
   ]
  },
  {
   "cell_type": "code",
   "execution_count": null,
   "metadata": {
    "collapsed": true
   },
   "outputs": [],
   "source": []
  }
 ],
 "metadata": {
  "kernelspec": {
   "display_name": "Python 3",
   "language": "python",
   "name": "python3"
  },
  "language_info": {
   "codemirror_mode": {
    "name": "ipython",
    "version": 3
   },
   "file_extension": ".py",
   "mimetype": "text/x-python",
   "name": "python",
   "nbconvert_exporter": "python",
   "pygments_lexer": "ipython3",
   "version": "3.6.0"
  }
 },
 "nbformat": 4,
 "nbformat_minor": 2
}
